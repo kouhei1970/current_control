{
 "cells": [
  {
   "cell_type": "code",
   "execution_count": null,
   "metadata": {},
   "outputs": [],
   "source": [
    "from motor_control import *"
   ]
  },
  {
   "cell_type": "code",
   "execution_count": null,
   "metadata": {},
   "outputs": [],
   "source": [
    "def motor_curr_pi(kp, ki, R, K, L, J, D):\n",
    "    num_i=np.poly1d([kp*J, kp*D + ki*J, ki*D])\n",
    "    num_u=np.poly1d([kp*J*L, kp*J*R+kp*D*L+ki*J*L, kp*D*R+ki*J*R+ki*D*L+K**2*kp, ki*D*R+K**2*ki])\n",
    "    num_o=np.poly1d([K*kp, K*ki])\n",
    "\n",
    "    den=np.poly1d([J*L, J*R+D*L+kp*J, D*R+K**2+kp*D+ki*J,ki*D])\n",
    "\n",
    "    p=np.sort(den.r)\n",
    "    \n",
    "    sys_i=tf(num_i, den)\n",
    "    sys_u=tf(num_u, den)\n",
    "    sys_o=tf(num_o, den)\n",
    "    \n",
    "    #print(J*Z*28/K/0.012)\n",
    "    \n",
    "    return(sys_i, sys_u, sys_o ,p)"
   ]
  },
  {
   "cell_type": "code",
   "execution_count": null,
   "metadata": {},
   "outputs": [],
   "source": [
    "def motor1724_curr(kp, ki):\n",
    "    #1724DCモータの諸元\n",
    "    R=3.41\n",
    "    K=6.59e-3\n",
    "    L=75e-6\n",
    "    D=1.4e-7\n",
    "    Jm=1e-7\n",
    "\n",
    "    Z=4.6#ギヤ比\n",
    "\n",
    "    #質量をモータ軸慣性モーメントに変換\n",
    "    Jb=(0.012/Z)**2*0.04\n",
    "    J=Jm+Jb\n",
    "\n",
    "    return motor_curr_pi(kp, ki, R, K, L, J, D)"
   ]
  },
  {
   "cell_type": "code",
   "execution_count": null,
   "metadata": {},
   "outputs": [],
   "source": [
    "def motor1717_curr(kp, ki):\n",
    "    #1717DCモータの諸元\n",
    "    R=1.07\n",
    "    K=1.98e-3\n",
    "    L=17e-6\n",
    "    D=1.226e-7\n",
    "    Jm=0.59e-7\n",
    "\n",
    "    Z=4.6#ギヤ比\n",
    "    \n",
    "    #質量をモータ軸慣性モーメントに変換\n",
    "    Jb=(0.012/Z)**2*0.04\n",
    "    \n",
    "    J=Jm+Jb\n",
    "    #print('J=',J)\n",
    "    return motor_curr_pi(kp, ki, R, K, L, J, D)"
   ]
  },
  {
   "cell_type": "code",
   "execution_count": null,
   "metadata": {},
   "outputs": [],
   "source": [
    "sys_i,sys_u, sys_o, sys_pole=motor1717_curr(1.7, 112000.0)\n",
    "\n",
    "endtime=0.001\n",
    "ti,yi=step(sys_i, 0, endtime, step=10000, debug=True)\n",
    "tu,yu=step(sys_u, 0, endtime, step=10000, debug=True)\n",
    "to,yo=step(sys_o, 0, endtime, step=10000, debug=True)\n",
    "\n",
    "ref=1.8\n",
    "TierR=0.012\n",
    "Z=4.6\n"
   ]
  },
  {
   "cell_type": "code",
   "execution_count": null,
   "metadata": {},
   "outputs": [],
   "source": [
    "p1 = figure(plot_height=200, \n",
    "            plot_width=800,\n",
    "            background_fill_color='#efefef',\n",
    "            x_axis_label='Time(s)',\n",
    "            y_axis_label='Current(A)',\n",
    "            \n",
    ")\n",
    "p1.add_tools(HoverTool(),CrosshairTool())\n",
    "\n",
    "p1.line(ti, yi*ref, color=\"#bb0000\", line_width=3.0, alpha=0.8)\n",
    "\n",
    "p2 = figure(plot_height=200, \n",
    "            plot_width=800,\n",
    "            background_fill_color='#efefef',\n",
    "            x_axis_label='Time(s)',\n",
    "            y_axis_label='Input(V)',\n",
    "            \n",
    ")\n",
    "p2.add_tools(HoverTool(),CrosshairTool())\n",
    "\n",
    "p2.line(tu, yu*ref, color=\"#00bb00\", line_width=3.0, alpha=0.8)\n",
    "\n",
    "p3 = figure(plot_height=200, \n",
    "            plot_width=800,\n",
    "            background_fill_color='#efefef',\n",
    "            x_axis_label='Time(s)',\n",
    "            y_axis_label='Velocity(m/s)',\n",
    "            \n",
    ")\n",
    "p3.add_tools(HoverTool(),CrosshairTool())\n",
    "\n",
    "p3.line(to, yo*ref*TierR/Z, color=\"#0000bb\", line_width=3.0, alpha=0.8)\n",
    "\n",
    "show(column(p1,p2,p3))"
   ]
  },
  {
   "cell_type": "markdown",
   "metadata": {},
   "source": [
    "あささんの最大加速２８m/s^2\n"
   ]
  },
  {
   "cell_type": "code",
   "execution_count": null,
   "metadata": {},
   "outputs": [],
   "source": [
    "#根軌跡\n",
    "\n",
    "p=[[],[],[]]\n",
    "kps=np.linspace(1000,1000000,1000)\n",
    "for kp in kps:\n",
    "    _, _, _, sys_pole=motor1717_curr(1.7, kp)\n",
    "    sys_pole=sys_pole+0j\n",
    "    #print(sys_pole)\n",
    "\n",
    "    #print(sys_pole[0], sys_pole[1], sys_pole[2])\n",
    "\n",
    "    p[0].append(sys_pole[0])\n",
    "    p[1].append(sys_pole[1])\n",
    "    p[2].append(sys_pole[2])\n",
    "\n",
    "p=np.array(p) \n",
    "\n",
    "phoge=figure(plot_height=400, \n",
    "            plot_width=550)\n",
    "phoge.scatter(p[0].real, p[0].imag, color='#ff0000',size=5,alpha=0.5,marker='circle')\n",
    "phoge.scatter(p[1].real, p[1].imag, color='#00ff00',size=5,alpha=0.5,marker='square')\n",
    "phoge.scatter(p[2].real, p[2].imag, color='#0000ff',size=10,alpha=0.5,marker='triangle')\n",
    "phoge.add_tools(HoverTool(),CrosshairTool())\n",
    "show(phoge)"
   ]
  },
  {
   "cell_type": "code",
   "execution_count": null,
   "metadata": {},
   "outputs": [],
   "source": [
    "kps[111]"
   ]
  },
  {
   "cell_type": "code",
   "execution_count": null,
   "metadata": {},
   "outputs": [],
   "source": []
  }
 ],
 "metadata": {
  "kernelspec": {
   "display_name": "Python 3",
   "language": "python",
   "name": "python3"
  },
  "language_info": {
   "codemirror_mode": {
    "name": "ipython",
    "version": 3
   },
   "file_extension": ".py",
   "mimetype": "text/x-python",
   "name": "python",
   "nbconvert_exporter": "python",
   "pygments_lexer": "ipython3",
   "version": "3.7.2"
  }
 },
 "nbformat": 4,
 "nbformat_minor": 4
}
